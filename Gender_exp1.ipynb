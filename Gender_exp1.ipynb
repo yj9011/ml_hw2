{
 "cells": [
  {
   "cell_type": "code",
   "execution_count": 1,
   "id": "87aaa2fd",
   "metadata": {},
   "outputs": [],
   "source": [
    "# 基本套件\n",
    "import pandas as pd\n",
    "from tabulate import tabulate\n",
    "import matplotlib.pyplot as plt\n",
    "from tensorflow.keras.preprocessing.image import ImageDataGenerator\n",
    "from tensorflow.keras import layers, models\n",
    "from tensorflow.keras.optimizers import Adam\n",
    "\n",
    "# 路徑設定：改成你電腦上的實際路徑\n",
    "train_dir = 'C:/Users/User/Python/pj2/Gender classification/train'\n",
    "test_dir = 'C:/Users/User/Python/pj2/Gender classification/test'"
   ]
  },
  {
   "cell_type": "code",
   "execution_count": 2,
   "id": "843baf06",
   "metadata": {},
   "outputs": [
    {
     "name": "stdout",
     "output_type": "stream",
     "text": [
      "Found 220 images belonging to 2 classes.\n",
      "Found 80 images belonging to 2 classes.\n"
     ]
    }
   ],
   "source": [
    "# 只做 normalization（不做資料增強）\n",
    "train_datagen = ImageDataGenerator(rescale=1./255)\n",
    "test_datagen = ImageDataGenerator(rescale=1./255)\n",
    "\n",
    "train_generator = train_datagen.flow_from_directory(\n",
    "    train_dir,\n",
    "    target_size=(128, 128),\n",
    "    batch_size=32,\n",
    "    class_mode='binary'\n",
    ")\n",
    "\n",
    "test_generator = test_datagen.flow_from_directory(\n",
    "    test_dir,\n",
    "    target_size=(128, 128),\n",
    "    batch_size=32,\n",
    "    class_mode='binary'\n",
    ")"
   ]
  },
  {
   "cell_type": "code",
   "execution_count": 3,
   "id": "8d518ff7",
   "metadata": {},
   "outputs": [
    {
     "name": "stdout",
     "output_type": "stream",
     "text": [
      "Model: \"sequential\"\n",
      "_________________________________________________________________\n",
      "Layer (type)                 Output Shape              Param #   \n",
      "=================================================================\n",
      "conv2d (Conv2D)              (None, 126, 126, 32)      896       \n",
      "_________________________________________________________________\n",
      "max_pooling2d (MaxPooling2D) (None, 63, 63, 32)        0         \n",
      "_________________________________________________________________\n",
      "conv2d_1 (Conv2D)            (None, 61, 61, 64)        18496     \n",
      "_________________________________________________________________\n",
      "max_pooling2d_1 (MaxPooling2 (None, 30, 30, 64)        0         \n",
      "_________________________________________________________________\n",
      "flatten (Flatten)            (None, 57600)             0         \n",
      "_________________________________________________________________\n",
      "dense (Dense)                (None, 128)               7372928   \n",
      "_________________________________________________________________\n",
      "dense_1 (Dense)              (None, 1)                 129       \n",
      "=================================================================\n",
      "Total params: 7,392,449\n",
      "Trainable params: 7,392,449\n",
      "Non-trainable params: 0\n",
      "_________________________________________________________________\n"
     ]
    }
   ],
   "source": [
    "model = models.Sequential([\n",
    "    layers.Conv2D(32, (3, 3), activation='relu', input_shape=(128, 128, 3)),\n",
    "    layers.MaxPooling2D(pool_size=(2, 2)),\n",
    "\n",
    "    layers.Conv2D(64, (3, 3), activation='relu'),\n",
    "    layers.MaxPooling2D(pool_size=(2, 2)),\n",
    "\n",
    "    layers.Flatten(),\n",
    "    layers.Dense(128, activation='relu'),\n",
    "    layers.Dense(1, activation='sigmoid')  # 二分類輸出\n",
    "])\n",
    "\n",
    "model.compile(optimizer=Adam(),\n",
    "              loss='binary_crossentropy',\n",
    "              metrics=['accuracy'])\n",
    "\n",
    "model.summary()"
   ]
  },
  {
   "cell_type": "code",
   "execution_count": 4,
   "id": "ad2ad643",
   "metadata": {},
   "outputs": [
    {
     "name": "stdout",
     "output_type": "stream",
     "text": [
      "WARNING:tensorflow:sample_weight modes were coerced from\n",
      "  ...\n",
      "    to  \n",
      "  ['...']\n",
      "WARNING:tensorflow:sample_weight modes were coerced from\n",
      "  ...\n",
      "    to  \n",
      "  ['...']\n",
      "Train for 7 steps, validate for 3 steps\n",
      "Epoch 1/10\n",
      "7/7 [==============================] - 47s 7s/step - loss: 1.4130 - accuracy: 0.5318 - val_loss: 0.6975 - val_accuracy: 0.5000\n",
      "Epoch 2/10\n",
      "7/7 [==============================] - 39s 6s/step - loss: 0.6993 - accuracy: 0.4864 - val_loss: 0.6969 - val_accuracy: 0.5000\n",
      "Epoch 3/10\n",
      "7/7 [==============================] - 38s 5s/step - loss: 0.6840 - accuracy: 0.5682 - val_loss: 0.7103 - val_accuracy: 0.5000\n",
      "Epoch 4/10\n",
      "7/7 [==============================] - 38s 5s/step - loss: 0.6657 - accuracy: 0.5909 - val_loss: 0.7041 - val_accuracy: 0.5375\n",
      "Epoch 5/10\n",
      "7/7 [==============================] - 38s 5s/step - loss: 0.5762 - accuracy: 0.7182 - val_loss: 0.7762 - val_accuracy: 0.5625\n",
      "Epoch 6/10\n",
      "7/7 [==============================] - 38s 5s/step - loss: 0.4445 - accuracy: 0.8227 - val_loss: 0.7515 - val_accuracy: 0.5375\n",
      "Epoch 7/10\n",
      "7/7 [==============================] - 38s 5s/step - loss: 0.3325 - accuracy: 0.8818 - val_loss: 0.9324 - val_accuracy: 0.5500\n",
      "Epoch 8/10\n",
      "7/7 [==============================] - 38s 5s/step - loss: 0.2257 - accuracy: 0.9227 - val_loss: 0.9703 - val_accuracy: 0.5125\n",
      "Epoch 9/10\n",
      "7/7 [==============================] - 38s 5s/step - loss: 0.1735 - accuracy: 0.9682 - val_loss: 1.2503 - val_accuracy: 0.5375\n",
      "Epoch 10/10\n",
      "7/7 [==============================] - 39s 6s/step - loss: 0.2102 - accuracy: 0.9227 - val_loss: 0.9432 - val_accuracy: 0.5875\n"
     ]
    }
   ],
   "source": [
    "history = model.fit(\n",
    "    train_generator,\n",
    "    epochs=10,\n",
    "    validation_data=test_generator\n",
    ")"
   ]
  },
  {
   "cell_type": "code",
   "execution_count": 5,
   "id": "3351bd08",
   "metadata": {},
   "outputs": [
    {
     "data": {
      "image/png": "[encoded data removed]",
      "text/plain": [
       "<Figure size 432x288 with 1 Axes>"
      ]
     },
     "metadata": {
      "needs_background": "light"
     },
     "output_type": "display_data"
    },
    {
     "data": {
      "image/png": "[encoded data removed]",
      "text/plain": [
       "<Figure size 432x288 with 1 Axes>"
      ]
     },
     "metadata": {
      "needs_background": "light"
     },
     "output_type": "display_data"
    }
   ],
   "source": [
    "# 準確率曲線 \n",
    "plt.plot(history.history['accuracy'], 'o-', label='Train Accuracy')  # 實心圓線\n",
    "plt.plot(history.history['val_accuracy'], label='Test Accuracy')\n",
    "plt.title('Model Accuracy')\n",
    "plt.xlabel('Epoch')\n",
    "plt.ylabel('Accuracy')\n",
    "plt.legend()\n",
    "plt.grid(True)\n",
    "plt.show()\n",
    "\n",
    "# 損失曲線 \n",
    "plt.plot(history.history['loss'], 'o-', label='Train Loss')\n",
    "plt.plot(history.history['val_loss'], label='Test Loss')  \n",
    "plt.title('Model Loss')\n",
    "plt.xlabel('Epoch')\n",
    "plt.ylabel('Loss')\n",
    "plt.legend()\n",
    "plt.grid(True)\n",
    "plt.show()"
   ]
  },
  {
   "cell_type": "code",
   "execution_count": 6,
   "id": "ffaabf7a",
   "metadata": {},
   "outputs": [
    {
     "name": "stdout",
     "output_type": "stream",
     "text": [
      "+---------+--------------+------------------+-------------+-----------------+\n",
      "| Epoch   | Train Loss   | Train Accuracy   | Test Loss   | Test Accuracy   |\n",
      "+=========+==============+==================+=============+=================+\n",
      "| 1       | 1.3633       | 0.5318           | 0.6975      | 0.5             |\n",
      "+---------+--------------+------------------+-------------+-----------------+\n",
      "| 2       | 0.6995       | 0.4864           | 0.6969      | 0.5             |\n",
      "+---------+--------------+------------------+-------------+-----------------+\n",
      "| 3       | 0.6843       | 0.5682           | 0.7103      | 0.5             |\n",
      "+---------+--------------+------------------+-------------+-----------------+\n",
      "| 4       | 0.6661       | 0.5909           | 0.7041      | 0.5375          |\n",
      "+---------+--------------+------------------+-------------+-----------------+\n",
      "| 5       | 0.5773       | 0.7182           | 0.7762      | 0.5625          |\n",
      "+---------+--------------+------------------+-------------+-----------------+\n",
      "| 6       | 0.4451       | 0.8227           | 0.7515      | 0.5375          |\n",
      "+---------+--------------+------------------+-------------+-----------------+\n",
      "| 7       | 0.3334       | 0.8818           | 0.9324      | 0.55            |\n",
      "+---------+--------------+------------------+-------------+-----------------+\n",
      "| 8       | 0.2258       | 0.9227           | 0.9703      | 0.5125          |\n",
      "+---------+--------------+------------------+-------------+-----------------+\n",
      "| 9       | 0.1746       | 0.9682           | 1.2503      | 0.5375          |\n",
      "+---------+--------------+------------------+-------------+-----------------+\n",
      "| 10      | 0.2115       | 0.9227           | 0.9432      | 0.5875          |\n",
      "+---------+--------------+------------------+-------------+-----------------+\n"
     ]
    }
   ],
   "source": [
    "# 取出訓練歷程並整理為 DataFrame\n",
    "history_df = pd.DataFrame(history.history)\n",
    "history_df.index += 1  # 讓 epoch 從 1 開始\n",
    "\n",
    "# 重新命名欄位（對應你要的格式）\n",
    "history_df.columns = ['Train Loss', 'Train Accuracy', 'Test Loss', 'Test Accuracy']\n",
    "history_df.index.name = 'Epoch'\n",
    "\n",
    "# 小數四捨五入到第4位\n",
    "rounded_df = history_df.round(4)\n",
    "\n",
    "# 印出表格\n",
    "print(tabulate(rounded_df, headers='keys', tablefmt='grid', showindex=True, stralign='left', numalign='left'))"
   ]
  },
  {
   "cell_type": "code",
   "execution_count": null,
   "id": "67c23856",
   "metadata": {},
   "outputs": [],
   "source": []
  }
 ],
 "metadata": {
  "kernelspec": {
   "display_name": "Python 3",
   "language": "python",
   "name": "python3"
  },
  "language_info": {
   "codemirror_mode": {
    "name": "ipython",
    "version": 3
   },
   "file_extension": ".py",
   "mimetype": "text/x-python",
   "name": "python",
   "nbconvert_exporter": "python",
   "pygments_lexer": "ipython3",
   "version": "3.6.13"
  }
 },
 "nbformat": 4,
 "nbformat_minor": 5
}
